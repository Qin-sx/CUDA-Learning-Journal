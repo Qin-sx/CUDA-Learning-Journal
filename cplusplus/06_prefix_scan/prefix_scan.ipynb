{
 "cells": [
  {
   "cell_type": "markdown",
   "metadata": {
    "id": "adawlgCCMu2C"
   },
   "source": [
    "Reference: https://developer.nvidia.com/gpugems/gpugems3/part-vi-gpu-computing/chapter-39-parallel-prefix-sum-scan-cuda"
   ]
  },
  {
   "cell_type": "markdown",
   "metadata": {
    "id": "pfY-q5iRMuQ_"
   },
   "source": [
    "## Hillis-Steele Prefix Scan Algorithm\n",
    "\n",
    "### Initial State\n",
    "\n",
    "Before any operations, the output array is initialized to:\n",
    "\n",
    "| Index | 0 | 1 | 2 | 3 | 4 | 5 | 6 | 7 |\n",
    "|-------|---|---|---|---|---|---|---|---|\n",
    "| Value | 0 | 1 | 2 | 3 | 4 | 5 | 6 | 7 |\n",
    "\n",
    "### Step 1: s = 1\n",
    "\n",
    "Each element adds the value of its immediate left neighbor (**i - 1**):\n",
    "\n",
    "| Index  | 0      | 1      | 2      | 3      | 4      | 5      | 6      | 7      |\n",
    "|--------|--------|--------|--------|--------|--------|--------|--------|--------|\n",
    "| Operation | -      | 0 + 1  | 1 + 2  | 2 + 3  | 3 + 4  | 4 + 5  | 5 + 6  | 6 + 7  |\n",
    "| Result | 0      | 1      | 3      | 5      | 7      | 9      | 11     | 13     |\n",
    "\n",
    "\n",
    "### Step 2: s = 2\n",
    "\n",
    "Each element adds the value two positions to its left (**i - 2**):\n",
    "\n",
    "| Index  | 0 | 1 | 2        | 3        | 4        | 5        | 6        | 7        |\n",
    "|--------|---|---|----------|----------|----------|----------|----------|----------|\n",
    "| Operation | - | - | 0 + (1 + 2) | (0 + 1) + (2 + 3) | (1 + 2) + (3 + 4) | (2 + 3) + (4 + 5) | (3 + 4) + (5 + 6) | (4 + 5) + (6 + 7) |\n",
    "| Result | 0 | 1 | 3        | 6        | 10       | 14       | 18       | 22       |\n",
    "\n",
    "### Step 3: s = 4\n",
    "\n",
    "Each element adds the value four positions to its left (**i - 4**):\n",
    "\n",
    "| Index  | 0 | 1 | 2 | 3 | 4                | 5                | 6                | 7                |\n",
    "|--------|---|---|---|---|------------------|------------------|------------------|------------------|\n",
    "| Operation | - | - | - | - | 0 + (1 + 2 + 3 + 4) | (0 + 1) + (2 + 3 + 4 + 5) | (0 + 1 + 2) + (3 + 4 + 5 + 6)| (0 + 1 + 2 + 3) + (4 + 5 + 6 + 7) |\n",
    "| Result | 0 | 1 | 3 | 6 | 10               | 15               | 21               | 28               |\n"
   ]
  },
  {
   "cell_type": "code",
   "execution_count": null,
   "metadata": {
    "colab": {
     "base_uri": "https://localhost:8080/"
    },
    "id": "QnNsWrWNMjl0",
    "outputId": "8f5cd413-b323-452f-d0aa-3f319772c34e"
   },
   "outputs": [],
   "source": [
    "%%writefile prefix_scan.cu\n",
    "#include <stdio.h>\n",
    "#include <stdlib.h>\n",
    "#include <type_traits>\n",
    "#include <thrust/host_vector.h>\n",
    "#include <thrust/device_vector.h>\n",
    "#include <thrust/sequence.h>\n",
    "\n",
    "#define TYPE int\n",
    "#define N 2048\n",
    "#define BLOCK_SIZE 1024\n",
    "#define NUM_PER_THREAD 8\n",
    "#define WARP_SIZE (BLOCK_SIZE / NUM_PER_THREAD / 32)\n",
    "\n",
    "__global__ void  warm_up()\n",
    "{\n",
    "    int indexX = threadIdx.x + blockIdx.x * blockDim.x;\n",
    "    if (indexX < N)\n",
    "    {\n",
    "        float a = 0.0f;\n",
    "        float b = 1.0f;\n",
    "        float c = a + b;\n",
    "    }\n",
    "}\n",
    "\n",
    "template <typename T, typename = std::enable_if_t<std::is_arithmetic<T>::value>>\n",
    "void prefix_scan(T* input, T* output, int n)\n",
    "{\n",
    "    output[0] = input[0];\n",
    "    for (int i = 1; i < n; ++i)\n",
    "    {\n",
    "        output[i] = output[i - 1] + input[i];\n",
    "    }\n",
    "}\n",
    "\n",
    "template <typename T, typename = std::enable_if_t<std::is_arithmetic<T>::value>>\n",
    "__global__ void prefix_scan_0(T* input, T* output, int n)\n",
    "{\n",
    "    extern __shared__ T sdata[];\n",
    "\n",
    "    int idx = threadIdx.x + blockIdx.x * blockDim.x;\n",
    "    int tid = threadIdx.x;\n",
    "\n",
    "    if (idx < n)\n",
    "    {\n",
    "        sdata[tid] = input[idx];\n",
    "    }\n",
    "    else\n",
    "    {\n",
    "        sdata[tid] = 0;\n",
    "    }\n",
    "\n",
    "    __syncthreads();\n",
    "\n",
    "    for (unsigned int s = 1; s < blockDim.x; s *= 2)\n",
    "    {\n",
    "        T temp = 0;\n",
    "        if (tid >= s)\n",
    "        {\n",
    "            temp = sdata[tid - s];\n",
    "        }\n",
    "        __syncthreads();\n",
    "        sdata[tid] += temp;\n",
    "    }\n",
    "\n",
    "    if (idx < n)\n",
    "    {\n",
    "        output[idx] = sdata[tid];\n",
    "    }\n",
    "\n",
    "    __threadfence();\n",
    "\n",
    "    for(int i = 1; i < gridDim.x; i *= 2)\n",
    "    {\n",
    "        T temp = output[i * blockDim.x - 1];\n",
    "        if (idx < n && blockIdx.x == i)\n",
    "        {\n",
    "            output[idx] += temp;\n",
    "        }\n",
    "        __threadfence();\n",
    "    }\n",
    "}\n",
    "\n",
    "\n",
    "\n",
    "\n",
    "int main()\n",
    "{\n",
    "    TYPE h_input[N];\n",
    "    for (int i = 0; i < N; ++i)\n",
    "    {\n",
    "        h_input[i] = 1;\n",
    "    }\n",
    "\n",
    "    TYPE h_output[N];\n",
    "    prefix_scan(h_input, h_output, N);\n",
    "\n",
    "\n",
    "    thrust::device_vector<TYPE> d_input(h_input, h_input + N);\n",
    "    thrust::device_vector<TYPE> d_output(N);\n",
    "\n",
    "    int threads_per_block = BLOCK_SIZE;\n",
    "    int no_of_blocks = (N + threads_per_block - 1) / threads_per_block;\n",
    "\n",
    "    warm_up<<<no_of_blocks, threads_per_block>>>();\n",
    "    prefix_scan_0<<<no_of_blocks, threads_per_block, threads_per_block * sizeof(TYPE)>>>(thrust::raw_pointer_cast(d_input.data()), thrust::raw_pointer_cast(d_output.data()), int(N));\n",
    "\n",
    "\n",
    "    thrust::host_vector<TYPE> h_result = d_output;\n",
    "\n",
    "    bool match = true;\n",
    "    for (int i = 0; i < N; ++i)\n",
    "    {\n",
    "        if (h_output[i] != h_result[i])\n",
    "        {\n",
    "            std::cout << h_output[i] << \" \" << h_result[i] << std::endl;\n",
    "            match = false;\n",
    "            break;\n",
    "        }\n",
    "    }\n",
    "\n",
    "    if (match)\n",
    "        std::cout << \"Results match!\" << std::endl;\n",
    "    else\n",
    "        std::cout << \"Results do not match!\" << std::endl;\n",
    "\n",
    "    return 0;\n",
    "}"
   ]
  },
  {
   "cell_type": "code",
   "execution_count": null,
   "metadata": {
    "colab": {
     "base_uri": "https://localhost:8080/"
    },
    "id": "h84fWJIyOorG",
    "outputId": "3971d6f5-3606-4fdc-d932-4ae4140ced54"
   },
   "outputs": [],
   "source": [
    "!nvcc -o prefix_scan -lineinfo prefix_scan.cu"
   ]
  },
  {
   "cell_type": "code",
   "execution_count": null,
   "metadata": {
    "colab": {
     "base_uri": "https://localhost:8080/"
    },
    "id": "CI_QoDRYPOZa",
    "outputId": "2e826b08-5352-4e75-bebb-e8a4ec623df5"
   },
   "outputs": [],
   "source": [
    "!./prefix_scan"
   ]
  }
 ],
 "metadata": {
  "accelerator": "GPU",
  "colab": {
   "gpuType": "T4",
   "provenance": []
  },
  "kernelspec": {
   "display_name": "Python 3",
   "name": "python3"
  },
  "language_info": {
   "name": "python"
  }
 },
 "nbformat": 4,
 "nbformat_minor": 0
}
