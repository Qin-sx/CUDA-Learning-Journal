{
  "cells": [
    {
      "cell_type": "code",
      "execution_count": null,
      "metadata": {
        "colab": {
          "base_uri": "https://localhost:8080/"
        },
        "id": "YVSWNjd0LCp1",
        "outputId": "92154e35-1b28-4a3c-a41a-486caa38617a"
      },
      "outputs": [],
      "source": [
        "%%writefile vector_addition_const_memory.cu\n",
        "\n",
        "#include <stdio.h>\n",
        "#include <stdlib.h>\n",
        "#include <type_traits>\n",
        "\n",
        "#include <thrust/device_vector.h>\n",
        "#include <thrust/fill.h>\n",
        "#include <thrust/functional.h>\n",
        "\n",
        "#define N 102400\n",
        "#define TYPE int\n",
        "\n",
        "__global__ void warm_up() {\n",
        "    int indexX = threadIdx.x + blockIdx.x * blockDim.x;\n",
        "    if(indexX < N)\n",
        "    {\n",
        "        float a = 0.0f;\n",
        "        float b = 1.0f;\n",
        "        float c = a + b;\n",
        "    }\n",
        "}\n",
        "\n",
        "template <typename T, typename = std::enable_if_t<std::is_arithmetic<T>::value>>\n",
        "__global__ void device_add_const_memory(T * __restrict__ a, T * __restrict__ b, T * __restrict__ c, int n)\n",
        "{\n",
        "    int id = threadIdx.x + blockIdx.x * blockDim.x;\n",
        "    if (id >= 1 && id < n - 1) {\n",
        "        c[id] = __ldg(a + id) + __ldg(a + id + 1) + __ldg(b + id) + __ldg(b + id + 1);\n",
        "        c[id] += __ldg(a + id) + __ldg(a + id - 1) + __ldg(b + id) + __ldg(b + id - 1);\n",
        "    }\n",
        "}\n",
        "\n",
        "template <typename T, typename = std::enable_if_t<std::is_arithmetic<T>::value>>\n",
        "__global__ void device_add(T *a, T *b, T *c, int n)\n",
        "{\n",
        "    int id = threadIdx.x + blockIdx.x * blockDim.x;\n",
        "    if (id >= 1 && id < n - 1) {\n",
        "        c[id] = a[id] + a[id + 1] + b[id] + b[id + 1];\n",
        "        c[id] = a[id] + a[id - 1] + b[id] + b[id - 1];\n",
        "    }\n",
        "}\n",
        "\n",
        "template <typename T, typename = std::enable_if_t<std::is_arithmetic<T>::value>>\n",
        "void print_output(T *a, T *b, T *c)\n",
        "{\n",
        "    for (int i = 0; i < N; ++i)\n",
        "    {\n",
        "        printf(\"\\n %d + %d  = %d\", a[i], b[i], c[i]);\n",
        "    }\n",
        "}\n",
        "\n",
        "int main()\n",
        "{\n",
        "    thrust::device_vector<TYPE> a(N);\n",
        "    thrust::device_vector<TYPE> b(N);\n",
        "    thrust::device_vector<TYPE> c(N);\n",
        "\n",
        "    thrust::device_vector<TYPE> a1(N);\n",
        "    thrust::device_vector<TYPE> b1(N);\n",
        "    thrust::device_vector<TYPE> c1(N);\n",
        "\n",
        "\n",
        "    thrust::fill(a.begin(), a.end(), 0);\n",
        "    thrust::fill(b.begin(), b.end(), 0);\n",
        "\n",
        "    thrust::fill(a1.begin(), a1.end(), 0);\n",
        "    thrust::fill(b1.begin(), b1.end(), 0);\n",
        "\n",
        "    for (int i = 0; i < N; ++i)\n",
        "    {\n",
        "        a[i] = i;\n",
        "        b[i] = i;\n",
        "\n",
        "        a1[i] = i;\n",
        "        b1[i] = i;\n",
        "    }\n",
        "\n",
        "    int threads_per_block = 256;\n",
        "    int no_of_blocks = (N + threads_per_block - 1) / threads_per_block;\n",
        "\n",
        "    warm_up<<<no_of_blocks, threads_per_block>>>();\n",
        "    device_add_const_memory<<<no_of_blocks, threads_per_block>>>(\n",
        "            thrust::raw_pointer_cast(a.data()),\n",
        "            thrust::raw_pointer_cast(b.data()),\n",
        "            thrust::raw_pointer_cast(c.data()),\n",
        "            N);\n",
        "\n",
        "    device_add<<<no_of_blocks, threads_per_block>>>(\n",
        "            thrust::raw_pointer_cast(a1.data()),\n",
        "            thrust::raw_pointer_cast(b1.data()),\n",
        "            thrust::raw_pointer_cast(c1.data()),\n",
        "            N);\n",
        "\n",
        "    std::vector<TYPE> host_a(N);\n",
        "    std::vector<TYPE> host_b(N);\n",
        "    std::vector<TYPE> host_c(N);\n",
        "\n",
        "    std::vector<TYPE> host_a1(N);\n",
        "    std::vector<TYPE> host_b1(N);\n",
        "    std::vector<TYPE> host_c1(N);\n",
        "\n",
        "    thrust::copy(a.begin(), a.end(), host_a.begin());\n",
        "    thrust::copy(b.begin(), b.end(), host_b.begin());\n",
        "    thrust::copy(c.begin(), c.end(), host_c.begin());\n",
        "\n",
        "    thrust::copy(a1.begin(), a1.end(), host_a1.begin());\n",
        "    thrust::copy(b1.begin(), b1.end(), host_b1.begin());\n",
        "    thrust::copy(c1.begin(), c1.end(), host_c1.begin());\n",
        "\n",
        "    // print_output(host_a1.data(), host_b1.data(), host_c1.data());\n",
        "    // print_output(host_a.data(), host_b.data(), host_c.data());\n",
        "\n",
        "    return 0;\n",
        "}"
      ]
    },
    {
      "cell_type": "code",
      "execution_count": null,
      "metadata": {
        "colab": {
          "base_uri": "https://localhost:8080/"
        },
        "id": "SDoek5xhLMS5",
        "outputId": "ec5d9544-e0d5-4121-8de1-c7d654940c67"
      },
      "outputs": [],
      "source": [
        "!nvcc -o vector_addition_const_memory vector_addition_const_memory.cu"
      ]
    },
    {
      "cell_type": "code",
      "execution_count": null,
      "metadata": {
        "collapsed": true,
        "id": "z0o-zqKiLhfJ"
      },
      "outputs": [],
      "source": [
        "!./vector_addition_const_memory"
      ]
    },
    {
      "cell_type": "code",
      "execution_count": null,
      "metadata": {
        "colab": {
          "base_uri": "https://localhost:8080/"
        },
        "id": "BToT8ds7MXWi",
        "outputId": "4c667a30-c672-4a2c-b184-e55a530fdb0c"
      },
      "outputs": [],
      "source": [
        "!wget https://developer.download.nvidia.com/compute/cuda/repos/ubuntu2204/x86_64/nsight-systems-2024.2.3_2024.2.3.38-1_amd64.deb"
      ]
    },
    {
      "cell_type": "code",
      "execution_count": null,
      "metadata": {
        "colab": {
          "base_uri": "https://localhost:8080/"
        },
        "id": "0Ie2jBCwMbC9",
        "outputId": "38ea7eaf-3e44-4724-9113-ed53e76ff259"
      },
      "outputs": [],
      "source": [
        "!apt update\n",
        "!apt install ./nsight-systems-2024.2.3_2024.2.3.38-1_amd64.deb\n",
        "!apt --fix-broken install"
      ]
    },
    {
      "cell_type": "code",
      "execution_count": null,
      "metadata": {
        "colab": {
          "base_uri": "https://localhost:8080/"
        },
        "id": "AbF3Qb-zMhLx",
        "outputId": "62b1f46d-aa30-4f6d-e27c-502f2bf092ad"
      },
      "outputs": [],
      "source": [
        "!nsys profile -o report_nsys_vector_addition_const_memory ./vector_addition_const_memory -f"
      ]
    },
    {
      "cell_type": "code",
      "execution_count": null,
      "metadata": {
        "colab": {
          "base_uri": "https://localhost:8080/"
        },
        "id": "sOn47a_cBcWb",
        "outputId": "ce4c7dd9-ea46-476e-a682-feea192f59e9"
      },
      "outputs": [],
      "source": [
        "!ncu --set full --replay-mode kernel --target-processes all -o report_ncu_vector_addition_const_memory -f ./vector_addition_const_memory"
      ]
    },
    {
      "cell_type": "code",
      "execution_count": null,
      "metadata": {
        "colab": {
          "base_uri": "https://localhost:8080/"
        },
        "id": "BszGhenjXSJQ",
        "outputId": "076b5b47-5396-4ae0-a51d-54f8dfb79143"
      },
      "outputs": [],
      "source": [
        "!ncu --list-sets"
      ]
    }
  ],
  "metadata": {
    "colab": {
      "provenance": []
    },
    "kernelspec": {
      "display_name": "Python 3",
      "name": "python3"
    },
    "language_info": {
      "name": "python"
    }
  },
  "nbformat": 4,
  "nbformat_minor": 0
}
