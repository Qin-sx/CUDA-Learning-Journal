{
  "cells": [
    {
      "cell_type": "code",
      "execution_count": null,
      "metadata": {
        "colab": {
          "base_uri": "https://localhost:8080/"
        },
        "id": "OO9mtsk5cM-z",
        "outputId": "12892e85-3e2f-46dd-c8e2-15209e8ce958"
      },
      "outputs": [],
      "source": [
        "!pip install nvcc4jupyter"
      ]
    },
    {
      "cell_type": "code",
      "execution_count": null,
      "metadata": {
        "colab": {
          "base_uri": "https://localhost:8080/"
        },
        "id": "MJPZSysUcWEm",
        "outputId": "1093ad62-35dc-406a-b49f-25cfda978c19"
      },
      "outputs": [],
      "source": [
        "%load_ext nvcc4jupyter"
      ]
    },
    {
      "cell_type": "code",
      "execution_count": null,
      "metadata": {
        "colab": {
          "base_uri": "https://localhost:8080/"
        },
        "id": "DrqPEuRzcYRs",
        "outputId": "8603c8e5-45da-4a9a-d175-7b832d15bfa8"
      },
      "outputs": [],
      "source": [
        "%%cuda\n",
        "\n",
        "#include <stdio.h>\n",
        "#include <stdlib.h>\n",
        "#include <type_traits>\n",
        "\n",
        "#include <thrust/device_vector.h>\n",
        "#include <thrust/fill.h>\n",
        "#include <thrust/functional.h>\n",
        "\n",
        "#define N 512\n",
        "#define TYPE int\n",
        "\n",
        "template <typename T, typename = std::enable_if_t<std::is_arithmetic<T>::value>>\n",
        "__global__ void device_add(T *a, T *b, T *c, int n)\n",
        "{\n",
        "    int id = threadIdx.x + blockIdx.x * blockDim.x;\n",
        "    if (id < n) {\n",
        "        c[id] = a[id] + b[id];\n",
        "    }\n",
        "}\n",
        "\n",
        "template <typename T, typename = std::enable_if_t<std::is_arithmetic<T>::value>>\n",
        "void print_output(T *a, T *b, T *c)\n",
        "{\n",
        "    for (int i = 0; i < N; ++i)\n",
        "    {\n",
        "        printf(\"\\n %d + %d  = %d\", a[i], b[i], c[i]);\n",
        "    }\n",
        "}\n",
        "\n",
        "int main()\n",
        "{\n",
        "    thrust::device_vector<TYPE> a(N);\n",
        "    thrust::device_vector<TYPE> b(N);\n",
        "    thrust::device_vector<TYPE> c(N);\n",
        "\n",
        "    thrust::fill(a.begin(), a.end(), 0);\n",
        "    thrust::fill(b.begin(), b.end(), 0);\n",
        "\n",
        "    for (int i = 0; i < N; ++i)\n",
        "    {\n",
        "        a[i] = i;\n",
        "        b[i] = i;\n",
        "    }\n",
        "\n",
        "    int threads_per_block = 256;\n",
        "    int no_of_blocks = (N + threads_per_block - 1) / threads_per_block;\n",
        "\n",
        "    device_add<<<no_of_blocks, threads_per_block>>>(thrust::raw_pointer_cast(a.data()),\n",
        "           thrust::raw_pointer_cast(b.data()),\n",
        "           thrust::raw_pointer_cast(c.data()),\n",
        "           N);\n",
        "\n",
        "    std::vector<TYPE> host_a(N);\n",
        "    std::vector<TYPE> host_b(N);\n",
        "    std::vector<TYPE> host_c(N);\n",
        "\n",
        "    thrust::copy(a.begin(), a.end(), host_a.begin());\n",
        "    thrust::copy(b.begin(), b.end(), host_b.begin());\n",
        "    thrust::copy(c.begin(), c.end(), host_c.begin());\n",
        "\n",
        "    print_output(host_a.data(), host_b.data(), host_c.data());\n",
        "\n",
        "    return 0;\n",
        "}"
      ]
    }
  ],
  "metadata": {
    "accelerator": "GPU",
    "colab": {
      "gpuType": "T4",
      "provenance": []
    },
    "kernelspec": {
      "display_name": "Python 3",
      "name": "python3"
    },
    "language_info": {
      "name": "python"
    }
  },
  "nbformat": 4,
  "nbformat_minor": 0
}
