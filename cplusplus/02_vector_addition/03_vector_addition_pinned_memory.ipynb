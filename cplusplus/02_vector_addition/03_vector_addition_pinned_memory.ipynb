{
  "cells": [
    {
      "cell_type": "code",
      "execution_count": null,
      "metadata": {
        "colab": {
          "base_uri": "https://localhost:8080/"
        },
        "id": "3UbvMT9aQgbp",
        "outputId": "06554929-f7bd-4dba-bb36-e560aeb25a69"
      },
      "outputs": [],
      "source": [
        "%%writefile vector_addition_pinned_memory.cu\n",
        "#include <stdio.h>\n",
        "#include <stdlib.h>\n",
        "#include <type_traits>\n",
        "\n",
        "#define TYPE int\n",
        "#define N 512\n",
        "\n",
        "template <typename T, typename = std::enable_if_t<std::is_arithmetic<T>::value>>\n",
        "__global__ void device_add(T *a, T *b, T *c, int n)\n",
        "{\n",
        "    int id = threadIdx.x + blockIdx.x * blockDim.x;\n",
        "    if (id < n) {\n",
        "        c[id] = a[id] + b[id];\n",
        "    }\n",
        "}\n",
        "\n",
        "template <typename T, typename = std::enable_if_t<std::is_arithmetic<T>::value>>\n",
        "void print_output(T *a, T *b, T *c)\n",
        "{\n",
        "    for (int i = 0; i < N; ++i)\n",
        "    {\n",
        "        printf(\"\\n %d + %d  = %d\", a[i], b[i], c[i]);\n",
        "    }\n",
        "}\n",
        "\n",
        "int main()\n",
        "{\n",
        "    TYPE *a, *b, *c;\n",
        "    TYPE *d_a, *d_b, *d_c;\n",
        "    int threads_per_block = 0, no_of_blocks = 0;\n",
        "\n",
        "    int size = N * sizeof(TYPE);\n",
        "\n",
        "    // Allocate space for host copies of a, b, c and setup input values\n",
        "    cudaHostAlloc(&a, size, cudaHostAllocDefault);\n",
        "    cudaHostAlloc(&b, size, cudaHostAllocDefault);\n",
        "    cudaHostAlloc(&c, size, cudaHostAllocDefault);\n",
        "\n",
        "    for (int i = 0; i < N; ++i)\n",
        "    {\n",
        "        a[i] = i;\n",
        "        b[i] = i;\n",
        "    }\n",
        "\n",
        "    // Allocate space for device copies of a, b, c\n",
        "    cudaMalloc((void **)&d_a, size);\n",
        "    cudaMalloc((void **)&d_b, size);\n",
        "    cudaMalloc((void **)&d_c, size);\n",
        "\n",
        "    // Copy data from host to device\n",
        "    cudaMemcpy(d_a, a, size, cudaMemcpyHostToDevice);\n",
        "    cudaMemcpy(d_b, b, size, cudaMemcpyHostToDevice);\n",
        "\n",
        "    threads_per_block = 4;\n",
        "    no_of_blocks = (N + threads_per_block - 1) / threads_per_block;\n",
        "    device_add<<<no_of_blocks, threads_per_block>>>(d_a, d_b, d_c, N);\n",
        "\n",
        "    // Copy result back to host\n",
        "    cudaMemcpy(c, d_c, size, cudaMemcpyDeviceToHost);\n",
        "\n",
        "    print_output(a, b, c);\n",
        "\n",
        "    cudaFreeHost(a);\n",
        "    cudaFreeHost(b);\n",
        "    cudaFreeHost(c);\n",
        "    cudaFree(d_a);\n",
        "    cudaFree(d_b);\n",
        "    cudaFree(d_c);\n",
        "\n",
        "    return 0;\n",
        "}\n"
      ]
    },
    {
      "cell_type": "code",
      "execution_count": null,
      "metadata": {
        "id": "WrcenKR2SVKY"
      },
      "outputs": [],
      "source": [
        "!nvcc -o vector_addition_pinned_memory vector_addition_pinned_memory.cu"
      ]
    },
    {
      "cell_type": "code",
      "execution_count": null,
      "metadata": {
        "id": "kgIjWsqOStHC"
      },
      "outputs": [],
      "source": [
        "!./vector_addition_pinned_memory"
      ]
    },
    {
      "cell_type": "code",
      "execution_count": null,
      "metadata": {
        "colab": {
          "base_uri": "https://localhost:8080/"
        },
        "id": "fUXnLtqMTu9D",
        "outputId": "c216b18c-78ba-496e-f3ed-1baffc4106e3"
      },
      "outputs": [],
      "source": [
        "from google.colab import drive\n",
        "drive.mount('/content/drive')"
      ]
    },
    {
      "cell_type": "code",
      "execution_count": null,
      "metadata": {
        "colab": {
          "base_uri": "https://localhost:8080/"
        },
        "id": "Xrkn0Nm7Ulsg",
        "outputId": "524b3bbf-8737-4976-9a50-52848e3066c8"
      },
      "outputs": [],
      "source": [
        "!wget https://developer.download.nvidia.com/compute/cuda/repos/ubuntu2204/x86_64/nsight-systems-2023.2.3_2023.2.3.1001-1_amd64.deb"
      ]
    },
    {
      "cell_type": "code",
      "execution_count": null,
      "metadata": {
        "colab": {
          "base_uri": "https://localhost:8080/"
        },
        "id": "lxOS8iLoUpD4",
        "outputId": "e9d7691c-4ce3-4044-b458-3e98f1e48891"
      },
      "outputs": [],
      "source": [
        "!apt update\n",
        "!apt install ./nsight-systems-2023.2.3_2023.2.3.1001-1_amd64.deb\n",
        "!apt --fix-broken install"
      ]
    },
    {
      "cell_type": "code",
      "execution_count": null,
      "metadata": {
        "colab": {
          "base_uri": "https://localhost:8080/"
        },
        "id": "noa_uD4OVEEz",
        "outputId": "afe4d872-f88b-4f40-9edc-992113bdf950"
      },
      "outputs": [],
      "source": [
        "!nsys profile -o report_vector_addition_pinned_memory ./vector_addition_pinned_memory"
      ]
    },
    {
      "cell_type": "code",
      "execution_count": null,
      "metadata": {
        "colab": {
          "base_uri": "https://localhost:8080/"
        },
        "id": "8oshZ3AVaP47",
        "outputId": "95a2a0f9-ceaf-4164-ec35-55185a8ea78c"
      },
      "outputs": [],
      "source": [
        "!nvprof ./vector_addition_pinned_memory"
      ]
    }
  ],
  "metadata": {
    "accelerator": "GPU",
    "colab": {
      "gpuType": "T4",
      "provenance": []
    },
    "kernelspec": {
      "display_name": "Python 3",
      "name": "python3"
    },
    "language_info": {
      "name": "python"
    }
  },
  "nbformat": 4,
  "nbformat_minor": 0
}
